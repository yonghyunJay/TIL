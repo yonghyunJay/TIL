{
 "cells": [
  {
   "cell_type": "code",
   "execution_count": 1,
   "metadata": {},
   "outputs": [],
   "source": [
    "num = 23"
   ]
  },
  {
   "cell_type": "code",
   "execution_count": 9,
   "metadata": {},
   "outputs": [],
   "source": [
    "몫 = num // 5"
   ]
  },
  {
   "cell_type": "code",
   "execution_count": 10,
   "metadata": {},
   "outputs": [],
   "source": [
    "나머지 = num % 5"
   ]
  },
  {
   "cell_type": "code",
   "execution_count": 11,
   "metadata": {},
   "outputs": [
    {
     "name": "stdout",
     "output_type": "stream",
     "text": [
      "4 3\n"
     ]
    }
   ],
   "source": [
    "print(몫,나머지)"
   ]
  },
  {
   "cell_type": "code",
   "execution_count": 12,
   "metadata": {},
   "outputs": [
    {
     "name": "stdout",
     "output_type": "stream",
     "text": [
      "255\n"
     ]
    }
   ],
   "source": [
    "print(0xFF)"
   ]
  },
  {
   "cell_type": "code",
   "execution_count": 13,
   "metadata": {},
   "outputs": [
    {
     "name": "stdout",
     "output_type": "stream",
     "text": [
      "27\n"
     ]
    }
   ],
   "source": [
    "print(0o33)"
   ]
  },
  {
   "cell_type": "code",
   "execution_count": 14,
   "metadata": {},
   "outputs": [],
   "source": [
    "date = '2007-03-27'"
   ]
  },
  {
   "cell_type": "code",
   "execution_count": 18,
   "metadata": {},
   "outputs": [
    {
     "name": "stdout",
     "output_type": "stream",
     "text": [
      "2007 03 27\n"
     ]
    }
   ],
   "source": [
    "print(date[0:4], date[5:7], date[8:11])"
   ]
  },
  {
   "cell_type": "code",
   "execution_count": 19,
   "metadata": {},
   "outputs": [
    {
     "name": "stdout",
     "output_type": "stream",
     "text": [
      "2007 03 27\n"
     ]
    }
   ],
   "source": [
    "print(date[0:4] + ' ' + date[5:7] + ' ' + date[8:11])"
   ]
  },
  {
   "cell_type": "code",
   "execution_count": 20,
   "metadata": {},
   "outputs": [],
   "source": [
    "s = 'python'"
   ]
  },
  {
   "cell_type": "code",
   "execution_count": 21,
   "metadata": {},
   "outputs": [
    {
     "data": {
      "text/plain": [
       "'       python       '"
      ]
     },
     "execution_count": 21,
     "metadata": {},
     "output_type": "execute_result"
    }
   ],
   "source": [
    "'{0:^20}'.format(s)"
   ]
  },
  {
   "cell_type": "code",
   "execution_count": 33,
   "metadata": {},
   "outputs": [],
   "source": [
    "# 주석입니다."
   ]
  },
  {
   "cell_type": "code",
   "execution_count": 36,
   "metadata": {},
   "outputs": [
    {
     "data": {
      "text/plain": [
       "' 이것도 주석입니다. 하지만 빌더가 코드로 포함시켜 메모리를 사용합니다. '"
      ]
     },
     "execution_count": 36,
     "metadata": {},
     "output_type": "execute_result"
    }
   ],
   "source": [
    "''' 이것도 주석입니다. 하지만 빌더가 코드로 포함시켜 메모리를 사용합니다. '''"
   ]
  },
  {
   "cell_type": "markdown",
   "metadata": {},
   "source": [
    "# 파란모드에서 1을 입력하였습니다.마크다운같은 주석이 됩니다. 주소링크도 된다네요 "
   ]
  },
  {
   "cell_type": "markdown",
   "metadata": {},
   "source": [
    "##### 파란모드에서 5를 입력하였습니다."
   ]
  },
  {
   "cell_type": "markdown",
   "metadata": {},
   "source": [
    "###### 파란모드에서 6을 입력하였습니다."
   ]
  },
  {
   "cell_type": "code",
   "execution_count": 32,
   "metadata": {},
   "outputs": [
    {
     "data": {
      "text/plain": [
       "'Eighty percent of success is showing up.'"
      ]
     },
     "execution_count": 32,
     "metadata": {},
     "output_type": "execute_result"
    }
   ],
   "source": [
    "s = 'Eighty percent of $ucce$$ i$ $howing up.'\n",
    "s.replace('$', 's')"
   ]
  },
  {
   "cell_type": "code",
   "execution_count": 37,
   "metadata": {},
   "outputs": [
    {
     "name": "stdout",
     "output_type": "stream",
     "text": [
      "12\n",
      "Life is too short,\n",
      "You need Python\n"
     ]
    }
   ],
   "source": [
    "s = 'Life is too short, You need Python'\n",
    "idx = s.find('short')\n",
    "print(idx)\n",
    "idx = s.find(' ', idx)\n",
    "print(s[:idx])\n",
    "print(s[idx+1:])"
   ]
  },
  {
   "cell_type": "markdown",
   "metadata": {},
   "source": [
    "##### 5번 연습"
   ]
  },
  {
   "cell_type": "code",
   "execution_count": 38,
   "metadata": {},
   "outputs": [],
   "source": [
    "list1 =  [ 'a', \n",
    "         [ [ 'Life', 'is', 'too', 'short' ]],\n",
    "          2 ]"
   ]
  },
  {
   "cell_type": "code",
   "execution_count": 42,
   "metadata": {},
   "outputs": [
    {
     "data": {
      "text/plain": [
       "'short'"
      ]
     },
     "execution_count": 42,
     "metadata": {},
     "output_type": "execute_result"
    }
   ],
   "source": [
    "list1[1][0][3]"
   ]
  },
  {
   "cell_type": "code",
   "execution_count": 1,
   "metadata": {},
   "outputs": [
    {
     "data": {
      "text/plain": [
       "[1, 2, 3, 5]"
      ]
     },
     "execution_count": 1,
     "metadata": {},
     "output_type": "execute_result"
    }
   ],
   "source": [
    "list1=[1, 2, 3, 4, 5]\n",
    "# 4번째 요소 삭제\n",
    "list1[3:4] = []\n",
    "list1"
   ]
  },
  {
   "cell_type": "markdown",
   "metadata": {},
   "source": [
    "##### 연습문제 5"
   ]
  },
  {
   "cell_type": "code",
   "execution_count": 3,
   "metadata": {},
   "outputs": [
    {
     "name": "stdout",
     "output_type": "stream",
     "text": [
      "가을 + GREEN\n"
     ]
    }
   ],
   "source": [
    "season = ['봄', '여름', '가을', '겨울']\n",
    "color = ['RED', 'GREEN', 'BLUE']\n",
    "\n",
    "가을인덱스 = season.index('가을')\n",
    "그린인덱스 = color.index('GREEN')\n",
    "\n",
    "join = season[가을인덱스] + ' + ' + color[그린인덱스]\n",
    "\n",
    "print(join)"
   ]
  },
  {
   "cell_type": "code",
   "execution_count": 4,
   "metadata": {},
   "outputs": [
    {
     "name": "stdout",
     "output_type": "stream",
     "text": [
      "[ggoreb]신림동/둔산동\n",
      "ggoreb 20\n"
     ]
    }
   ],
   "source": [
    "person = [\n",
    " 'ggoreb',\n",
    " 20,\n",
    " ['서울', '관악구', '신림동'],\n",
    " ['대전', '서구', '둔산동']\n",
    "]\n",
    "\n",
    "ggoreb인덱스 = person.index('ggoreb')\n",
    "세트1인덱스 = person.index(['서울', '관악구', '신림동'])\n",
    "신림동인덱스 = person[세트1인덱스].index('신림동')\n",
    "세트2인덱스 = person.index(['대전', '서구', '둔산동'])\n",
    "둔산동인덱스 = person[세트2인덱스].index('둔산동')\n",
    "\n",
    "data1 = '[' + person[ggoreb인덱스] + ']' + person[세트1인덱스][신림동인덱스] + '/' + person[세트2인덱스][둔산동인덱스]\n",
    "\n",
    "print(data1)\n",
    "\n",
    "data2 = person[ggoreb인덱스] + ' ' + str(person[1])\n",
    "\n",
    "print(data2)"
   ]
  },
  {
   "cell_type": "markdown",
   "metadata": {},
   "source": [
    "##### 연습문제 7"
   ]
  },
  {
   "cell_type": "code",
   "execution_count": 5,
   "metadata": {},
   "outputs": [
    {
     "name": "stdout",
     "output_type": "stream",
     "text": [
      "['나루토', '열혈강호', '용비불패', '드래곤볼']\n",
      "['열혈강호', '용비불패', '드래곤볼']\n",
      "['열혈강호', '용비불패']\n",
      "드래곤볼\n"
     ]
    }
   ],
   "source": [
    "list2 = ['원피스', '나루토', '열혈강호', '용비불패', '드래곤볼']\n",
    "del list2[0]\n",
    "print(list2)\n",
    "list2.remove('나루토')\n",
    "print(list2)\n",
    "드래곤볼POP = list2.pop()\n",
    "print(list2)\n",
    "print(드래곤볼POP)\n"
   ]
  },
  {
   "cell_type": "code",
   "execution_count": 6,
   "metadata": {},
   "outputs": [
    {
     "name": "stdout",
     "output_type": "stream",
     "text": [
      "['열혈강호', '고수', '용비불패']\n"
     ]
    }
   ],
   "source": [
    "list2 = ['열혈강호', '용비불패']\n",
    "list2.insert(1, '고수')\n",
    "print(list2)"
   ]
  },
  {
   "cell_type": "code",
   "execution_count": 7,
   "metadata": {},
   "outputs": [
    {
     "name": "stdout",
     "output_type": "stream",
     "text": [
      "['원피스', '나루토', '열혈강호', '용비불패', '드래곤볼']\n",
      "['원피스', '보루토', '열혈강호', '용비불패', '드래곤볼']\n"
     ]
    }
   ],
   "source": [
    "list3 = ['원피스', '나루토', '열혈강호', '용비불패', '드래곤볼']\n",
    "나루토인덱스 = list3.index('나루토')\n",
    "list3[나루토인덱스].replace('나', '보') # 참조자료형이라 적요안됨\n",
    "print(list3)\n",
    "list3[나루토인덱스] = '보루토'\n",
    "print(list3)"
   ]
  },
  {
   "cell_type": "code",
   "execution_count": 8,
   "metadata": {},
   "outputs": [
    {
     "name": "stdout",
     "output_type": "stream",
     "text": [
      "{'a': 1, 'b': 2, 'c': 3, '가': '파이썬'}\n"
     ]
    }
   ],
   "source": [
    "dict = {'a':1, 'b':2, 'c':3}\n",
    "dict['가'] = '파이썬'\n",
    "print(dict)"
   ]
  },
  {
   "cell_type": "code",
   "execution_count": 9,
   "metadata": {},
   "outputs": [],
   "source": [
    "dict = { 'a': 1, 'b': 2, 'c': 3, 'd': 4, 'e': 5 }"
   ]
  },
  {
   "cell_type": "code",
   "execution_count": 10,
   "metadata": {},
   "outputs": [
    {
     "data": {
      "text/plain": [
       "dict_keys(['a', 'b', 'c', 'd', 'e'])"
      ]
     },
     "execution_count": 10,
     "metadata": {},
     "output_type": "execute_result"
    }
   ],
   "source": [
    "dict.keys()"
   ]
  },
  {
   "cell_type": "code",
   "execution_count": 11,
   "metadata": {},
   "outputs": [],
   "source": [
    "list4 = list(dict.keys())"
   ]
  },
  {
   "cell_type": "markdown",
   "metadata": {},
   "source": [
    "##### 연습문제 10"
   ]
  },
  {
   "cell_type": "code",
   "execution_count": 12,
   "metadata": {},
   "outputs": [
    {
     "name": "stdout",
     "output_type": "stream",
     "text": [
      "{'서울': '02', '대전': '042', '부산': '051', '광주': '052', '제주': '064'}\n"
     ]
    }
   ],
   "source": [
    "number = {}\n",
    "number['서울'] ='02'\n",
    "number['대전'] ='042'\n",
    "number['부산'] ='051'\n",
    "number['광주'] ='052'\n",
    "number['제주'] ='064'\n",
    "print(number)"
   ]
  },
  {
   "cell_type": "code",
   "execution_count": 33,
   "metadata": {},
   "outputs": [
    {
     "name": "stdout",
     "output_type": "stream",
     "text": [
      "['서울', '대전', '부산', '광주', '제주']\n"
     ]
    }
   ],
   "source": [
    "key_list = list(number.keys())\n",
    "print(key_list)"
   ]
  },
  {
   "cell_type": "code",
   "execution_count": 34,
   "metadata": {},
   "outputs": [
    {
     "name": "stdout",
     "output_type": "stream",
     "text": [
      "['02', '042', '051', '052', '064']\n"
     ]
    }
   ],
   "source": [
    "value_list = list(number.values())\n",
    "print(value_list)"
   ]
  },
  {
   "cell_type": "code",
   "execution_count": 40,
   "metadata": {},
   "outputs": [
    {
     "name": "stdout",
     "output_type": "stream",
     "text": [
      "[('서울', '02'), ('대전', '042'), ('부산', '051'), ('광주', '052'), ('제주', '064')]\n",
      "051\n"
     ]
    }
   ],
   "source": [
    "item_list = list(number.items())\n",
    "print(item_list)\n",
    "부산인덱스 = key_list.index('부산')\n",
    "print(item_list[부산인덱스][1])"
   ]
  },
  {
   "cell_type": "code",
   "execution_count": 42,
   "metadata": {},
   "outputs": [
    {
     "name": "stdout",
     "output_type": "stream",
     "text": [
      "False\n"
     ]
    }
   ],
   "source": [
    "inExist = '천안' in number\n",
    "print(inExist)"
   ]
  },
  {
   "cell_type": "markdown",
   "metadata": {},
   "source": [
    "#####  놀라움"
   ]
  },
  {
   "cell_type": "code",
   "execution_count": 44,
   "metadata": {},
   "outputs": [
    {
     "name": "stdout",
     "output_type": "stream",
     "text": [
      "3 4\n",
      "4 3\n"
     ]
    }
   ],
   "source": [
    "a = 3\n",
    "b = 4\n",
    "print(a, b)\n",
    "a, b = b, a\n",
    "print(a, b)"
   ]
  },
  {
   "cell_type": "code",
   "execution_count": 45,
   "metadata": {},
   "outputs": [
    {
     "name": "stdout",
     "output_type": "stream",
     "text": [
      "{3, 4, 5}\n",
      "{1, 2, 3, 4, 5, 6, 7}\n",
      "{6, 7}\n",
      "{1, 2}\n"
     ]
    }
   ],
   "source": [
    "a = set([1, 2, 3, 4, 5])\n",
    "b = set([3, 4, 5, 6, 7])\n",
    "print(a&b)\n",
    "print(a|b)\n",
    "print(b-a)\n",
    "print(a-b)"
   ]
  },
  {
   "cell_type": "markdown",
   "metadata": {},
   "source": [
    "#####  제어문"
   ]
  },
  {
   "cell_type": "code",
   "execution_count": 48,
   "metadata": {},
   "outputs": [
    {
     "name": "stdout",
     "output_type": "stream",
     "text": [
      "탈락\n"
     ]
    }
   ],
   "source": [
    "score = 50\n",
    "if score >= 60:\n",
    "    print('통과')\n",
    "else:\n",
    "    print('탈락')"
   ]
  },
  {
   "cell_type": "code",
   "execution_count": 50,
   "metadata": {},
   "outputs": [
    {
     "name": "stdout",
     "output_type": "stream",
     "text": [
      "퇴근\n"
     ]
    }
   ],
   "source": [
    "workingTime = 8 # 근무시간\n",
    "# 코드 작성\n",
    "# workingTime 이 8 이상이면 퇴근\n",
    "if workingTime >= 8:\n",
    "    print('퇴근')\n",
    "# workingTime 이 8 미만이면 계속 근무\n",
    "else:\n",
    "    print('계속 근무')\n"
   ]
  },
  {
   "cell_type": "code",
   "execution_count": 58,
   "metadata": {},
   "outputs": [
    {
     "name": "stdout",
     "output_type": "stream",
     "text": [
      "A 학점\n"
     ]
    }
   ],
   "source": [
    "score = 90 # 시험점수\n",
    "# 코드 작성\n",
    "if score >= 90:\n",
    "    print('A 학점')\n",
    "elif score >= 80:\n",
    "    print('B 학점')\n",
    "elif score >= 70:\n",
    "    print('C 학점')\n",
    "elif score >= 60:\n",
    "    print('D 학점')\n",
    "elif score >= 50:\n",
    "    print('E 학점')\n",
    "else:\n",
    "    print('F 학점')\n"
   ]
  },
  {
   "cell_type": "code",
   "execution_count": 57,
   "metadata": {},
   "outputs": [
    {
     "name": "stdout",
     "output_type": "stream",
     "text": [
      "10% 할인 후 결제\n"
     ]
    }
   ],
   "source": [
    "cardList = ['우리카드', '신한카드', 'KB카드']\n",
    "# 코드 작성\n",
    "#사용자카드 = '하나카드'\n",
    "사용자카드 = '우리카드'\n",
    "\n",
    "if 사용자카드 in cardList:\n",
    "    print('10% 할인 후 결제')\n",
    "else:\n",
    "    print('그냥 결제')"
   ]
  },
  {
   "cell_type": "code",
   "execution_count": null,
   "metadata": {},
   "outputs": [],
   "source": []
  }
 ],
 "metadata": {
  "kernelspec": {
   "display_name": "Python 3",
   "language": "python",
   "name": "python3"
  },
  "language_info": {
   "codemirror_mode": {
    "name": "ipython",
    "version": 3
   },
   "file_extension": ".py",
   "mimetype": "text/x-python",
   "name": "python",
   "nbconvert_exporter": "python",
   "pygments_lexer": "ipython3",
   "version": "3.7.4"
  }
 },
 "nbformat": 4,
 "nbformat_minor": 2
}
