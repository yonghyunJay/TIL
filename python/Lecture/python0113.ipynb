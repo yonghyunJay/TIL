{
 "cells": [
  {
   "cell_type": "code",
   "execution_count": 84,
   "metadata": {},
   "outputs": [
    {
     "data": {
      "image/jpeg": "[encoded data removed]",
      "text/html": [
       "\n",
       "        <iframe\n",
       "            width=\"400\"\n",
       "            height=\"300\"\n",
       "            src=\"https://www.youtube.com/embed/bVgUbW3ckko\"\n",
       "            frameborder=\"0\"\n",
       "            allowfullscreen\n",
       "        ></iframe>\n",
       "        "
      ],
      "text/plain": [
       "<IPython.lib.display.YouTubeVideo at 0x1bb671bd348>"
      ]
     },
     "execution_count": 84,
     "metadata": {},
     "output_type": "execute_result"
    }
   ],
   "source": [
    "from IPython.display import YouTubeVideo\n",
    "YouTubeVideo('bVgUbW3ckko')"
   ]
  },
  {
   "cell_type": "code",
   "execution_count": 82,
   "metadata": {
    "scrolled": false
   },
   "outputs": [
    {
     "name": "stdout",
     "output_type": "stream",
     "text": [
      "python\n",
      "java\n",
      "c++\n",
      "go\n",
      "kotlin\n",
      "fortran\n",
      "['python', 'java', 'c++', 'go', 'kotlin', 'fortran']\n",
      "python\n",
      "kotlin\n",
      "fortran\n"
     ]
    }
   ],
   "source": [
    "# 04_03_text_data.txt 파일의 내용을 읽은 후 알파벳 t 가 포함된 단어만 출력\n",
    "f = open('c:/Users/student/04_03_text_data.txt', 'rt', encoding='utf8')\n",
    "text = f.read()\n",
    "print(text)\n",
    "texts = text.split('\\n')\n",
    "print(texts)\n",
    "f.close()\n",
    "for t in texts:\n",
    "    if 't' in t:\n",
    "        print(t)"
   ]
  },
  {
   "cell_type": "code",
   "execution_count": 72,
   "metadata": {
    "scrolled": true
   },
   "outputs": [
    {
     "name": "stdout",
     "output_type": "stream",
     "text": [
      "python\n",
      "\n",
      "kotlin\n",
      "\n",
      "fortran\n"
     ]
    }
   ],
   "source": [
    "# 04_03_text_data.txt 파일의 내용을 읽은 후 알파벳 t 가 포함된 단어만 출력\n",
    "f = open('c:/Users/student/04_03_text_data.txt', 'r', encoding='utf8')\n",
    "data = f.readlines()\n",
    "#print(data)\n",
    "for line in data:\n",
    "    if 't' in line:\n",
    "        print(line)\n",
    "f.close()"
   ]
  },
  {
   "cell_type": "code",
   "execution_count": 79,
   "metadata": {
    "scrolled": true
   },
   "outputs": [
    {
     "name": "stdout",
     "output_type": "stream",
     "text": [
      "7\n",
      "9\n",
      "24\n",
      "29\n",
      "34\n",
      "38\n",
      "['7', '9', '24', '29', '34', '38']\n",
      "141\n"
     ]
    }
   ],
   "source": [
    "# 04_03_numbers_data.txt 파일의 내용을 읽은 후 숫자들의 합 구하기\n",
    "f = open('c:/Users/student/04_03_numbers_data.txt', 'rt', encoding='utf8')\n",
    "text = f.read()\n",
    "print(text)\n",
    "texts = text.split('\\n')\n",
    "print(texts)\n",
    "f.close()\n",
    "total = 0\n",
    "for t in texts:\n",
    "    total += int(t)\n",
    "print(total)"
   ]
  },
  {
   "cell_type": "code",
   "execution_count": 80,
   "metadata": {},
   "outputs": [
    {
     "name": "stdout",
     "output_type": "stream",
     "text": [
      "['7\\n', '9\\n', '24\\n', '29\\n', '34\\n', '38']\n",
      "141\n"
     ]
    }
   ],
   "source": [
    "# 04_03_numbers_data.txt 파일의 내용을 읽은 후 숫자들의 합 구하기\n",
    "f = open('c:/Users/student/04_03_numbers_data.txt', 'r', encoding='utf8')\n",
    "data = f.readlines()\n",
    "print(data)\n",
    "sum = 0\n",
    "for line in data:\n",
    "    sum += int(line)\n",
    "print(sum)\n",
    "f.close()"
   ]
  },
  {
   "cell_type": "code",
   "execution_count": 43,
   "metadata": {
    "scrolled": false
   },
   "outputs": [
    {
     "name": "stdout",
     "output_type": "stream",
     "text": [
      "TEST\n",
      "★△■\n"
     ]
    }
   ],
   "source": [
    "f = open('c:/Users/student/text.txt', 'rt', encoding='utf8')\n",
    "print(f.read())\n",
    "f.close()"
   ]
  },
  {
   "cell_type": "code",
   "execution_count": 35,
   "metadata": {},
   "outputs": [
    {
     "name": "stdout",
     "output_type": "stream",
     "text": [
      "Lifeistooshort\n",
      "Lifeistooshort\n",
      "Life is too short\n",
      "Life is too short\n",
      "Life 1\n",
      "Life is too short\n"
     ]
    }
   ],
   "source": [
    "print('Life' 'is' 'too' 'short')\n",
    "print('Life'+'is'+'too'+'short')\n",
    "print('Life ' 'is ' 'too ' 'short')\n",
    "print('Life', 'is', 'too', 'short')\n",
    "print('Life', 1)\n",
    "print('Life', end=' ')\n",
    "print('is', end=' ')\n",
    "print('too', end=' ')\n",
    "print('short')"
   ]
  },
  {
   "cell_type": "code",
   "execution_count": 30,
   "metadata": {},
   "outputs": [
    {
     "name": "stdout",
     "output_type": "stream",
     "text": [
      "[2, 4, 6]\n",
      "[2, 4, 6, 8, 10, 12, 14, 16, 18]\n"
     ]
    }
   ],
   "source": [
    "my = lambda x : [ i*2 for i in range(1,x) ]\n",
    "print(my(4))\n",
    "print(my(10))"
   ]
  },
  {
   "cell_type": "code",
   "execution_count": 27,
   "metadata": {},
   "outputs": [
    {
     "name": "stdout",
     "output_type": "stream",
     "text": [
      "8\n"
     ]
    }
   ],
   "source": [
    "my = lambda x : x * 2\n",
    "print(my(4))"
   ]
  },
  {
   "cell_type": "code",
   "execution_count": 26,
   "metadata": {},
   "outputs": [
    {
     "data": {
      "text/plain": [
       "[2, 4, 6]"
      ]
     },
     "execution_count": 26,
     "metadata": {},
     "output_type": "execute_result"
    }
   ],
   "source": [
    "#[ i for i in range(1,4) ]\n",
    "[ i*2 for i in range(1,4) ]"
   ]
  },
  {
   "cell_type": "code",
   "execution_count": 23,
   "metadata": {},
   "outputs": [
    {
     "name": "stdout",
     "output_type": "stream",
     "text": [
      "[6, 7, 8]\n"
     ]
    }
   ],
   "source": [
    "myfunc = lambda numbers : [ number for number in numbers if number > 5 ]\n",
    "\n",
    "result = myfunc([2, 3, 4, 5, 6, 7, 8])\n",
    "print(result)"
   ]
  },
  {
   "cell_type": "code",
   "execution_count": 20,
   "metadata": {},
   "outputs": [
    {
     "name": "stdout",
     "output_type": "stream",
     "text": [
      "[6, 7, 8]\n"
     ]
    }
   ],
   "source": [
    "def myfunc(numbers):\n",
    "    result = []\n",
    "    for number in numbers:\n",
    "        if number > 5:\n",
    "            result.append(number)\n",
    "    return result\n",
    "\n",
    "result = myfunc([2, 3, 4, 5, 6, 7, 8])\n",
    "print(result)"
   ]
  },
  {
   "cell_type": "code",
   "execution_count": 17,
   "metadata": {},
   "outputs": [
    {
     "name": "stdout",
     "output_type": "stream",
     "text": [
      "1234\n",
      "python\n"
     ]
    }
   ],
   "source": [
    "text = ''\n",
    "# 코드 작성\n",
    "# 함수명 str_adder (가변 입력)\n",
    "def str_adder(*args):\n",
    "    global text\n",
    "    for i in args:\n",
    "        text += i\n",
    "    print(text)\n",
    "    text=''\n",
    "    \n",
    "str_adder('1', '2', '3', '4')\n",
    "str_adder('p', 'y', 't', 'h', 'o', 'n')"
   ]
  },
  {
   "cell_type": "code",
   "execution_count": 13,
   "metadata": {},
   "outputs": [
    {
     "name": "stdout",
     "output_type": "stream",
     "text": [
      "7\n",
      "16\n",
      "15\n",
      "25\n"
     ]
    }
   ],
   "source": [
    "def get_total(n):\n",
    "    #b = 0\n",
    "    #a = str(n)\n",
    "    #list(a)\n",
    "    #for i in range(len(a)):\n",
    "    #    b += int(a[i])\n",
    "    #return b\n",
    "    ret = 0\n",
    "    while True:\n",
    "        ret += n % 10\n",
    "        n //= 10\n",
    "        if n == 0: break\n",
    "    return ret\n",
    "\n",
    "print(get_total(124))\n",
    "print(get_total(79))\n",
    "print(get_total(12345))\n",
    "print(get_total(13579))"
   ]
  },
  {
   "cell_type": "code",
   "execution_count": 11,
   "metadata": {},
   "outputs": [
    {
     "name": "stdout",
     "output_type": "stream",
     "text": [
      "수박수\n",
      "수박수박\n",
      "수박수박수박수\n",
      "수박수박수박수박수박수\n"
     ]
    }
   ],
   "source": [
    "def print_str(n):\n",
    "    word = ''\n",
    "    #a = int(n/2)\n",
    "    #if n%2 == 0:\n",
    "    #    word = '수박'*a\n",
    "    #else:\n",
    "    #    word = '수박'*a + '수'\n",
    "    #return word\n",
    "\n",
    "    word = '수박'\n",
    "    if n % 2 == 0:\n",
    "        return word * (n // 2)\n",
    "    else:\n",
    "        return word * (n // 2) + '수'\n",
    "\n",
    "print(print_str(3))\n",
    "print(print_str(4))\n",
    "print(print_str(7))\n",
    "print(print_str(11))"
   ]
  },
  {
   "cell_type": "code",
   "execution_count": 234,
   "metadata": {},
   "outputs": [
    {
     "name": "stdout",
     "output_type": "stream",
     "text": [
      "t\n",
      "th\n"
     ]
    }
   ],
   "source": [
    "def get_mid_char(a):\n",
    "    halfNum = round(len(a)/2)\n",
    "    if len(a) % 2 == 0:\n",
    "        return a[halfNum-1:halfNum+1]\n",
    "    else:\n",
    "        return a[halfNum]\n",
    "\n",
    "print(get_mid_char('functions'))\n",
    "print(get_mid_char('python'))"
   ]
  },
  {
   "cell_type": "code",
   "execution_count": 190,
   "metadata": {},
   "outputs": [
    {
     "name": "stdout",
     "output_type": "stream",
     "text": [
      "1\n",
      "4\n",
      "10\n",
      "220\n"
     ]
    }
   ],
   "source": [
    "def get_sequence(n):\n",
    "    sum = 0\n",
    "    for i in range(1,n+1):\n",
    "        for j in range(1,i+1):\n",
    "            sum += j\n",
    "    print(sum)\n",
    "    \n",
    "get_sequence(1)\n",
    "get_sequence(2)\n",
    "get_sequence(3)\n",
    "get_sequence(10)"
   ]
  },
  {
   "cell_type": "code",
   "execution_count": 185,
   "metadata": {},
   "outputs": [
    {
     "name": "stdout",
     "output_type": "stream",
     "text": [
      "6\n",
      "38\n",
      "26\n",
      "0\n"
     ]
    }
   ],
   "source": [
    "def diff_sum(a, b, c):\n",
    "    d = a + b + c\n",
    "    e = a**2 + b**2 + c**2\n",
    "    if d < e:\n",
    "        d, e = e, d\n",
    "    print(d-e)\n",
    "\n",
    "diff_sum(2, 2, 2)\n",
    "diff_sum(3, 4, 5)\n",
    "diff_sum(5, 3, 1)\n",
    "diff_sum(1, 1, 1)"
   ]
  },
  {
   "cell_type": "code",
   "execution_count": 182,
   "metadata": {},
   "outputs": [
    {
     "name": "stdout",
     "output_type": "stream",
     "text": [
      "[20, 40, 60, 80]\n",
      "[<function <listcomp>.<lambda> at 0x000001C261C18708>, <function <listcomp>.<lambda> at 0x000001C261C18798>, <function <listcomp>.<lambda> at 0x000001C261C18828>, <function <listcomp>.<lambda> at 0x000001C261C188B8>]\n"
     ]
    }
   ],
   "source": [
    "test_list = [10, 20, 30, 40]\n",
    "test_func = lambda num : num * 2\n",
    "test_func(test_list[3])\n",
    "\n",
    "new_list = [ test_func(i) for i in test_list ]\n",
    "print(new_list)\n",
    "\n",
    "new_list2 = [ lambda num : num * 2 for i in test_list ]\n",
    "print(new_list2)\n"
   ]
  },
  {
   "cell_type": "code",
   "execution_count": 169,
   "metadata": {},
   "outputs": [
    {
     "name": "stdout",
     "output_type": "stream",
     "text": [
      "(30, 7.5)\n"
     ]
    }
   ],
   "source": [
    "def calculator(nums):\n",
    "    # 코드 작성\n",
    "    total = 0\n",
    "    \n",
    "    # sum case 1\n",
    "    #total = sum(nums)\n",
    "    \n",
    "    # sum case 2\n",
    "    #for i in range(len(nums)):\n",
    "    #    total += nums[i]\n",
    "    \n",
    "    # sum case 3\n",
    "    for i in nums:\n",
    "        total += i\n",
    "        \n",
    "    avg = total / len(nums)\n",
    "    return (total, avg)\n",
    "\n",
    "result = calculator([3, 7, 9, 11])\n",
    "print(result)"
   ]
  },
  {
   "cell_type": "code",
   "execution_count": 165,
   "metadata": {},
   "outputs": [
    {
     "name": "stdout",
     "output_type": "stream",
     "text": [
      "10\n",
      "55\n"
     ]
    }
   ],
   "source": [
    "# 코드 작성\n",
    "# 1 ~ 10 까지의 range() 함수 사용 예) range(1, 11)\n",
    "def sum1toN(num):\n",
    "    ret = 0\n",
    "    for i in range(1, int(num)+1):\n",
    "        ret += i\n",
    "    return ret\n",
    "\n",
    "print(sum1toN(input()))"
   ]
  },
  {
   "cell_type": "code",
   "execution_count": 158,
   "metadata": {},
   "outputs": [
    {
     "name": "stdout",
     "output_type": "stream",
     "text": [
      "8\n",
      "2\n"
     ]
    }
   ],
   "source": [
    "# 코드 작성\n",
    "def plus(num1, num2):\n",
    "    return num1 + num2\n",
    "\n",
    "def minus(num1, num2):\n",
    "    if num1 < num2:\n",
    "        num1, num2 = num2, num1\n",
    "    return num1 - num2\n",
    "\n",
    "result1 = plus(5, 3)\n",
    "result2 = minus(5, 3)\n",
    "print(result1)\n",
    "print(result2)"
   ]
  },
  {
   "cell_type": "code",
   "execution_count": 137,
   "metadata": {},
   "outputs": [
    {
     "name": "stdout",
     "output_type": "stream",
     "text": [
      "False\n",
      "True\n"
     ]
    }
   ],
   "source": [
    "# 코드 작성\n",
    "# 입력된 숫자가 홀수이면 True 반환\n",
    "# 입력된 숫자가 짝수이면 False 반환\n",
    "def isOdd(num):\n",
    "    return num % 2 != 0\n",
    "\n",
    "print(isOdd(2))\n",
    "print(isOdd(3))"
   ]
  },
  {
   "cell_type": "code",
   "execution_count": 119,
   "metadata": {},
   "outputs": [
    {
     "name": "stdout",
     "output_type": "stream",
     "text": [
      "3\n"
     ]
    }
   ],
   "source": [
    "a = 3\n",
    "b = 3\n",
    "new_list = [a,b]\n",
    "new_list.sort()\n",
    "answer = 0\n",
    "\n",
    "start = new_list[0]\n",
    "end = new_list[-1] + 1\n",
    "\n",
    "if start == end:\n",
    "    answer = start\n",
    "else:\n",
    "    for i in range(start, end):\n",
    "        answer += start\n",
    "        start += 1\n",
    "\n",
    "print(answer)"
   ]
  },
  {
   "cell_type": "code",
   "execution_count": 97,
   "metadata": {},
   "outputs": [
    {
     "name": "stdout",
     "output_type": "stream",
     "text": [
      "4\n"
     ]
    }
   ],
   "source": [
    "d = [2,2,3,3]\n",
    "budget = 10\n",
    "\n",
    "answer = 0\n",
    "d.sort()\n",
    "for i in range(len(d)):\n",
    "    if budget >= d[i]:\n",
    "        budget -= d[i]\n",
    "        answer += 1\n",
    "\n",
    "print(answer)"
   ]
  },
  {
   "cell_type": "code",
   "execution_count": 132,
   "metadata": {},
   "outputs": [
    {
     "name": "stdout",
     "output_type": "stream",
     "text": [
      "[10, 20, 40, 50, 70]\n"
     ]
    }
   ],
   "source": [
    "num_list = [10, 20, 30, 40, 50, 60, 70]\n",
    "# 코드 작성\n",
    "# remove() 함수를 사용하지 말고 pop() 함수를 이용하여 작성\n",
    "new_list = []\n",
    "#while num_list:\n",
    "#    a = num_list.pop()\n",
    "#    if a % 3 == 0: continue\n",
    "#    new_list.append(a)\n",
    "#new_list.reverse()\n",
    "#print(new_list)\n",
    "\n",
    "#for i in reversed(range(len(num_list))):\n",
    "#    if num_list[i] % 3 == 0:\n",
    "#        num_list.pop(i)\n",
    "#print(num_list)\n",
    "\n",
    "for i in range(len(num_list)-1, 0, -1):\n",
    "    if num_list[i] % 3 == 0:\n",
    "        num_list.pop(i)\n",
    "print(num_list)"
   ]
  },
  {
   "cell_type": "code",
   "execution_count": 89,
   "metadata": {},
   "outputs": [
    {
     "name": "stdout",
     "output_type": "stream",
     "text": [
      "19\n"
     ]
    }
   ],
   "source": [
    "count = 0\n",
    "# 코드 작성\n",
    "# 숫자를 문자열로 바꾸기 str(숫자) 함수 이용\n",
    "# 자료의 내부 값 확인 in 연산자 이용\n",
    "ret = [ str(x) for x in range(1,101) ]\n",
    "while ret:\n",
    "    if '3' in ret.pop():\n",
    "        count += 1\n",
    "\n",
    "print(count)"
   ]
  },
  {
   "cell_type": "code",
   "execution_count": 65,
   "metadata": {},
   "outputs": [
    {
     "name": "stdout",
     "output_type": "stream",
     "text": [
      "[17, 34, 51, 68, 85]\n"
     ]
    }
   ],
   "source": [
    "data = list(range(1, 101))\n",
    "new_list = [ x for x in data if x % 17 == 0 ]\n",
    "print(new_list)"
   ]
  },
  {
   "cell_type": "code",
   "execution_count": 63,
   "metadata": {},
   "outputs": [
    {
     "name": "stdout",
     "output_type": "stream",
     "text": [
      "1 2 3 4 5 6 7 8 9 \n",
      "0 2 4 6 8 \n",
      "0 1 2 3 4 5 6 7 8 9 \n",
      "10 9 8 7 6 5 4 3 2 1 \n",
      "9 8 7 6 5 4 3 2 1 0 "
     ]
    }
   ],
   "source": [
    "for i in range(1, 10):\n",
    "    print(i, end = ' ')\n",
    "\n",
    "print('')\n",
    "for i in range(0, 10, 2):\n",
    "    print(i, end = ' ')\n",
    "    \n",
    "print('')\n",
    "for i in range(10):\n",
    "    print(i, end = ' ')\n",
    "\n",
    "print('')\n",
    "for i in range(10, 0, -1):\n",
    "    print(i, end = ' ')\n",
    "\n",
    "print('')\n",
    "for i in reversed(range(0, 10)):\n",
    "    print(i, end = ' ')"
   ]
  },
  {
   "cell_type": "code",
   "execution_count": 41,
   "metadata": {},
   "outputs": [
    {
     "name": "stdout",
     "output_type": "stream",
     "text": [
      "    *\n",
      "   **\n",
      "  ***\n",
      " ****\n",
      "*****\n"
     ]
    }
   ],
   "source": [
    "i = 1 # '*' 개수\n",
    "space = 0 # 여백의 크기\n",
    "# 코드 작성\n",
    "# print() 후 줄바꿈 하지 않음 → print('내용', end='')\n",
    "# 문자열 * 숫자 기능 이용\n",
    "while i <= 5:\n",
    "    print(' '*(5-i), end='')\n",
    "    print('*'*i)\n",
    "    i += 1"
   ]
  },
  {
   "cell_type": "code",
   "execution_count": 40,
   "metadata": {
    "scrolled": true
   },
   "outputs": [
    {
     "name": "stdout",
     "output_type": "stream",
     "text": [
      "*\n",
      "**\n",
      "***\n",
      "****\n",
      "*****\n"
     ]
    }
   ],
   "source": [
    "i = 1 # '*' 개수\n",
    "# 코드 작성\n",
    "# 문자열 * 숫자 기능 이용\n",
    "while i <= 5:\n",
    "    print('*'*i)\n",
    "    i += 1"
   ]
  },
  {
   "cell_type": "code",
   "execution_count": 54,
   "metadata": {},
   "outputs": [
    {
     "name": "stdout",
     "output_type": "stream",
     "text": [
      "[43, 44, 45, 45, 20, 10] {33, 1, 37, 6, 7, 14}\n"
     ]
    }
   ],
   "source": [
    "import random\n",
    "lottoList = list() # 빈 List 생성\n",
    "lottoList2 = set() # 빈 List 생성\n",
    "\n",
    "# 코드 작성\n",
    "# 반복문 조건으로 len() 함수 이용\n",
    "# random.randint(1, 45) 함수 이용\n",
    "# 번호 생성 후 lottoList에 append\n",
    "#for i in range(6):\n",
    "while len(lottoList) < 6:\n",
    "    lottoList.append(random.randint(1, 45))\n",
    "    lottoList2.add(random.randint(1, 45))\n",
    "print(lottoList, lottoList2)"
   ]
  },
  {
   "cell_type": "code",
   "execution_count": 47,
   "metadata": {},
   "outputs": [
    {
     "name": "stdout",
     "output_type": "stream",
     "text": [
      "1  /  2\n",
      "6  /  6\n"
     ]
    }
   ],
   "source": [
    "import random # random 모듈 import\n",
    "# 코드 작성\n",
    "# random.randint(1, 6) 함수 이용\n",
    "# 두 눈이 같을 때 break\n",
    "while True:\n",
    "    a = random.randint(1, 6)\n",
    "    b = random.randint(1, 6)\n",
    "    print(a,' / ',b)\n",
    "    if a == b: break\n"
   ]
  },
  {
   "cell_type": "code",
   "execution_count": 43,
   "metadata": {
    "scrolled": false
   },
   "outputs": [
    {
     "name": "stdout",
     "output_type": "stream",
     "text": [
      "359\n"
     ]
    }
   ],
   "source": [
    "studentInfo = {\n",
    " 'a':33, 'b':55, 'c':67, 'd':82, 'e':45,\n",
    " 'f':33, 'g':90, 'h':87, 'i': 100, 'j':25\n",
    "}\n",
    "total = 0\n",
    "# 코드 작성 - Dictionary values(), List pop() 등 이용\n",
    "scoreList = list(studentInfo.values())\n",
    "#for i in range(len(scoreList)):\n",
    "while scoreList:\n",
    "    a = scoreList.pop()\n",
    "    if a >= 80:\n",
    "        total += a\n",
    "print(total)"
   ]
  },
  {
   "cell_type": "code",
   "execution_count": 42,
   "metadata": {},
   "outputs": [
    {
     "name": "stdout",
     "output_type": "stream",
     "text": [
      "481\n"
     ]
    }
   ],
   "source": [
    "scoreList = [20, 55, 67, 82, 45, 33, 90, 87, 100, 25]\n",
    "total = 0\n",
    "# 코드 작성 - List pop() 함수 이용\n",
    "#for i in range(len(scoreList)):\n",
    "while scoreList:\n",
    "    a = scoreList.pop()\n",
    "    if a >= 50:\n",
    "        total += a\n",
    "print(total)"
   ]
  },
  {
   "cell_type": "code",
   "execution_count": 8,
   "metadata": {},
   "outputs": [
    {
     "name": "stdout",
     "output_type": "stream",
     "text": [
      "166833\n"
     ]
    }
   ],
   "source": [
    "num = 1\n",
    "total = 0\n",
    "\n",
    "while num <= 1000:\n",
    "    if num % 3 == 0:\n",
    "        total += num\n",
    "    num += 1\n",
    "\n",
    "print(total)"
   ]
  },
  {
   "cell_type": "code",
   "execution_count": 6,
   "metadata": {},
   "outputs": [
    {
     "name": "stdout",
     "output_type": "stream",
     "text": [
      "500500\n"
     ]
    }
   ],
   "source": [
    "num = 1\n",
    "total = 0\n",
    "\n",
    "while num <= 1000:\n",
    "    total += num\n",
    "    num += 1\n",
    "\n",
    "print(total)"
   ]
  },
  {
   "cell_type": "code",
   "execution_count": 4,
   "metadata": {},
   "outputs": [
    {
     "name": "stdout",
     "output_type": "stream",
     "text": [
      "3\n",
      "2\n"
     ]
    }
   ],
   "source": [
    "import random\n",
    "while True:\n",
    "    num = random.randint(1, 3)\n",
    "    print('%d' % num)\n",
    "    if num == 2: break"
   ]
  }
 ],
 "metadata": {
  "kernelspec": {
   "display_name": "Python 3",
   "language": "python",
   "name": "python3"
  },
  "language_info": {
   "codemirror_mode": {
    "name": "ipython",
    "version": 3
   },
   "file_extension": ".py",
   "mimetype": "text/x-python",
   "name": "python",
   "nbconvert_exporter": "python",
   "pygments_lexer": "ipython3",
   "version": "3.7.4"
  }
 },
 "nbformat": 4,
 "nbformat_minor": 2
}
