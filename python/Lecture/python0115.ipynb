{
 "cells": [
  {
   "cell_type": "code",
   "execution_count": 246,
   "metadata": {},
   "outputs": [
    {
     "name": "stdout",
     "output_type": "stream",
     "text": [
      "    August 2004\n",
      "Mo Tu We Th Fr Sa Su\n",
      "                   1\n",
      " 2  3  4  5  6  7  8\n",
      " 9 10 11 12 13 14 15\n",
      "16 17 18 19 20 21 22\n",
      "23 24 25 26 27 28 29\n",
      "30 31\n",
      "2 일\n",
      "9 일\n",
      "16 일\n",
      "23 일\n",
      "30 일\n"
     ]
    }
   ],
   "source": [
    "# 2004년 8월의 달력과 요일이 월요일인 날짜 출력\n",
    "import calendar as cal\n",
    "cal.prmonth(2004, 8)\n",
    "last_day = cal.monthrange(2004, 8)[1]\n",
    "for day in range(1, last_day+1):\n",
    "    if cal.weekday(2004, 8, day) == 0:\n",
    "        print(day, '일')"
   ]
  },
  {
   "cell_type": "code",
   "execution_count": 227,
   "metadata": {},
   "outputs": [
    {
     "data": {
      "text/plain": [
       "'화'"
      ]
     },
     "execution_count": 227,
     "metadata": {},
     "output_type": "execute_result"
    }
   ],
   "source": [
    "# 2017년 5월 9일의 요일을 출력\n",
    "import calendar as cal\n",
    "week_dict = { 0 : '월', 1 : '화', 2 : '수', 3 : '목', 4 : '금', 5 : '토', 6 : '일' }\n",
    "#a = cal.weekday(2017, 5, 9)\n",
    "#week_dict.get(a)\n",
    "week_dict[cal.weekday(2017, 5, 9)]"
   ]
  },
  {
   "cell_type": "code",
   "execution_count": 213,
   "metadata": {},
   "outputs": [
    {
     "name": "stdout",
     "output_type": "stream",
     "text": [
      "2\n",
      "(5, 29)\n"
     ]
    }
   ],
   "source": [
    "import calendar as cal\n",
    "a = cal.weekday(2020, 1, 15)\n",
    "print(a)\n",
    "b = cal.monthrange(2020, 2)\n",
    "print(b)"
   ]
  },
  {
   "cell_type": "code",
   "execution_count": 208,
   "metadata": {},
   "outputs": [
    {
     "name": "stdout",
     "output_type": "stream",
     "text": [
      "2020-04-24 16:31:02\n"
     ]
    }
   ],
   "source": [
    "# 100일 뒤 날짜\n",
    "import time as t\n",
    "day = 100\n",
    "a = t.time() + ( day * 60 * 60 * 24 )\n",
    "print(t.strftime('%Y-%m-%d %H:%M:%S', t.localtime(a)))"
   ]
  },
  {
   "cell_type": "code",
   "execution_count": 206,
   "metadata": {},
   "outputs": [
    {
     "name": "stdout",
     "output_type": "stream",
     "text": [
      "2020-01-15 16:25:26\n"
     ]
    }
   ],
   "source": [
    "import time as t\n",
    "print(t.strftime('%Y-%m-%d %H:%M:%S', t.localtime(t.time())))"
   ]
  },
  {
   "cell_type": "code",
   "execution_count": 203,
   "metadata": {
    "scrolled": true
   },
   "outputs": [
    {
     "name": "stdout",
     "output_type": "stream",
     "text": [
      "1579073000.3372798\n",
      "time.struct_time(tm_year=2020, tm_mon=1, tm_mday=15, tm_hour=16, tm_min=23, tm_sec=20, tm_wday=2, tm_yday=15, tm_isdst=0)\n",
      "2020 1 15\n",
      "Wed Jan 15 16:23:20 2020\n",
      "Wed Jan 15 16:23:20 2020\n",
      "2020-01-15 16:23:20\n"
     ]
    }
   ],
   "source": [
    "import time as t\n",
    "a = t.time()\n",
    "print(a)\n",
    "b = t.localtime(a)\n",
    "print(b)\n",
    "print(b.tm_year, b.tm_mon, b.tm_mday)\n",
    "c = t.asctime(b)\n",
    "print(c)\n",
    "print(t.ctime())\n",
    "print(t.strftime('%Y-%m-%d %H:%M:%S', b))"
   ]
  },
  {
   "cell_type": "code",
   "execution_count": 186,
   "metadata": {},
   "outputs": [
    {
     "data": {
      "text/plain": [
       "3"
      ]
     },
     "execution_count": 186,
     "metadata": {},
     "output_type": "execute_result"
    }
   ],
   "source": [
    "import random as r\n",
    "r.seed(1)\n",
    "r.randint(1, 10) # seed 1이면 항상 일정"
   ]
  },
  {
   "cell_type": "code",
   "execution_count": 180,
   "metadata": {
    "scrolled": true
   },
   "outputs": [
    {
     "data": {
      "text/plain": [
       "'c:/Users/student/python_dir/.\\\\hosts'"
      ]
     },
     "execution_count": 180,
     "metadata": {},
     "output_type": "execute_result"
    }
   ],
   "source": [
    "import shutil as sh\n",
    "sh.copy('c:/Windows/System32/drivers/etc/hosts', 'c:/Users/student/python_dir/.')"
   ]
  },
  {
   "cell_type": "code",
   "execution_count": 157,
   "metadata": {
    "scrolled": false
   },
   "outputs": [
    {
     "name": "stdout",
     "output_type": "stream",
     "text": [
      "173\n"
     ]
    }
   ],
   "source": [
    "from glob import glob\n",
    "fileList = glob('C:/dev/Miniconda3/Lib/*.py')\n",
    "#print(fileList)\n",
    "print(len(fileList))"
   ]
  },
  {
   "cell_type": "code",
   "execution_count": 147,
   "metadata": {
    "scrolled": true
   },
   "outputs": [
    {
     "name": "stdout",
     "output_type": "stream",
     "text": [
      "[WinError 183] 파일이 이미 있으므로 만들 수 없습니다: 'python_dir'\n"
     ]
    },
    {
     "ename": "FileExistsError",
     "evalue": "[WinError 183] 파일이 이미 있으므로 만들 수 없습니다: 'python_dir/b'",
     "output_type": "error",
     "traceback": [
      "\u001b[1;31m---------------------------------------------------------------------------\u001b[0m",
      "\u001b[1;31mFileExistsError\u001b[0m                           Traceback (most recent call last)",
      "\u001b[1;32m<ipython-input-147-cd901e91ac05>\u001b[0m in \u001b[0;36m<module>\u001b[1;34m\u001b[0m\n\u001b[0;32m      9\u001b[0m \u001b[0mf3\u001b[0m \u001b[1;33m=\u001b[0m \u001b[0mopen\u001b[0m\u001b[1;33m(\u001b[0m\u001b[1;34m'python_dir/a/a.txt'\u001b[0m\u001b[1;33m,\u001b[0m \u001b[1;34m'w'\u001b[0m\u001b[1;33m)\u001b[0m\u001b[1;33m\u001b[0m\u001b[1;33m\u001b[0m\u001b[0m\n\u001b[0;32m     10\u001b[0m \u001b[0mf3\u001b[0m\u001b[1;33m.\u001b[0m\u001b[0mclose\u001b[0m\u001b[1;33m(\u001b[0m\u001b[1;33m)\u001b[0m\u001b[1;33m\u001b[0m\u001b[1;33m\u001b[0m\u001b[0m\n\u001b[1;32m---> 11\u001b[1;33m \u001b[0mos\u001b[0m\u001b[1;33m.\u001b[0m\u001b[0mmkdir\u001b[0m\u001b[1;33m(\u001b[0m\u001b[1;34m'python_dir/b'\u001b[0m\u001b[1;33m)\u001b[0m\u001b[1;33m\u001b[0m\u001b[1;33m\u001b[0m\u001b[0m\n\u001b[0m\u001b[0;32m     12\u001b[0m \u001b[0mf3\u001b[0m \u001b[1;33m=\u001b[0m \u001b[0mopen\u001b[0m\u001b[1;33m(\u001b[0m\u001b[1;34m'python_dir/b/b.txt'\u001b[0m\u001b[1;33m,\u001b[0m \u001b[1;34m'w'\u001b[0m\u001b[1;33m)\u001b[0m\u001b[1;33m\u001b[0m\u001b[1;33m\u001b[0m\u001b[0m\n\u001b[0;32m     13\u001b[0m \u001b[0mf3\u001b[0m\u001b[1;33m.\u001b[0m\u001b[0mclose\u001b[0m\u001b[1;33m(\u001b[0m\u001b[1;33m)\u001b[0m\u001b[1;33m\u001b[0m\u001b[1;33m\u001b[0m\u001b[0m\n",
      "\u001b[1;31mFileExistsError\u001b[0m: [WinError 183] 파일이 이미 있으므로 만들 수 없습니다: 'python_dir/b'"
     ]
    }
   ],
   "source": [
    "import os\n",
    "\n",
    "os.chdir('c:/Users/student')\n",
    "try:\n",
    "    os.mkdir('python_dir')\n",
    "    os.mkdir('python_dir/a')\n",
    "except FileExistsError as e:\n",
    "    print(e)\n",
    "f3 = open('python_dir/a/a.txt', 'w')\n",
    "f3.close()\n",
    "os.mkdir('python_dir/b')\n",
    "f3 = open('python_dir/b/b.txt', 'w')\n",
    "f3.close()\n"
   ]
  },
  {
   "cell_type": "code",
   "execution_count": 140,
   "metadata": {},
   "outputs": [
    {
     "name": "stdout",
     "output_type": "stream",
     "text": [
      "(100, 200)\n"
     ]
    }
   ],
   "source": [
    "import pickle\n",
    "class NowData:\n",
    "    def __init__(self):\n",
    "        self.x = 0\n",
    "        self.y = 0\n",
    "    def move(self, x, y):\n",
    "        self.x = x\n",
    "        self.y = y\n",
    "    def get_location(self):\n",
    "        return self.x, self.y\n",
    "\n",
    "data = NowData()\n",
    "data.move(100, 200)\n",
    "\n",
    "# 코드 작성\n",
    "f1 = open('data.bin', 'wb')\n",
    "pickle.dump(data, f1)\n",
    "f1.close()\n",
    "\n",
    "f2= open('data.bin', 'rb')\n",
    "result = pickle.load(f2)\n",
    "print(result.get_location())\n",
    "f2.close()"
   ]
  },
  {
   "cell_type": "code",
   "execution_count": 127,
   "metadata": {},
   "outputs": [
    {
     "name": "stdout",
     "output_type": "stream",
     "text": [
      "[(1, 'a', '가'), (2, 'b', '나'), (3, 'c', '다'), (4, 'd', '라')]\n",
      "1 a 가\n",
      "2 b 나\n",
      "3 c 다\n",
      "4 d 라\n"
     ]
    }
   ],
   "source": [
    "list1 = [1, 2, 3, 4]\n",
    "list2 = ['a', 'b', 'c', 'd']\n",
    "list3 = ['가', '나', '다', '라']\n",
    "# 코드 작성\n",
    "a = list(zip(list1, list2, list3))\n",
    "print(a)\n",
    "for a, b, c in zip(list1, list2, list3):\n",
    "    print(a, b, c)"
   ]
  },
  {
   "cell_type": "code",
   "execution_count": 107,
   "metadata": {},
   "outputs": [
    {
     "name": "stdout",
     "output_type": "stream",
     "text": [
      "65 83 67 73 73 32 84 65 66 76 69 \n",
      "80 89 84 72 79 78 \n"
     ]
    }
   ],
   "source": [
    "string1 = 'ASCII TABLE'\n",
    "string2 = 'PYTHON'\n",
    "def show_ch_to_ascii(string):\n",
    "    # 코드 작성\n",
    "    word_list = list(string)\n",
    "    for letter in word_list:\n",
    "        print(ord(letter), end=' ')\n",
    "    print()\n",
    "show_ch_to_ascii(string1)\n",
    "show_ch_to_ascii(string2)"
   ]
  },
  {
   "cell_type": "code",
   "execution_count": 100,
   "metadata": {},
   "outputs": [
    {
     "name": "stdout",
     "output_type": "stream",
     "text": [
      "7 -8 9\n"
     ]
    }
   ],
   "source": [
    "num_list = [-8, 2, 7, 5, -3, 5, 0, 1]\n",
    "# 코드 작성 : 결과 최대 7 최소 -8\n",
    "print(max(num_list), min(num_list), sum(num_list))"
   ]
  },
  {
   "cell_type": "code",
   "execution_count": 101,
   "metadata": {},
   "outputs": [
    {
     "data": {
      "text/plain": [
       "[1, 4, 27, 256]"
      ]
     },
     "execution_count": 101,
     "metadata": {},
     "output_type": "execute_result"
    }
   ],
   "source": [
    "num_list = [1, 2, 3, 4]\n",
    "# 코드 작성 : 결과 [1, 4, 27, 256]\n",
    "def multiple(n):\n",
    "    #return n ** n\n",
    "    return pow(n, n)\n",
    "list(map(multiple, num_list))"
   ]
  },
  {
   "cell_type": "code",
   "execution_count": 94,
   "metadata": {},
   "outputs": [
    {
     "data": {
      "text/plain": [
       "[1, 4, 27, 256]"
      ]
     },
     "execution_count": 94,
     "metadata": {},
     "output_type": "execute_result"
    }
   ],
   "source": [
    "num_list = [1, 2, 3, 4]\n",
    "# 코드 작성 : 결과 [1, 4, 27, 256]\n",
    "list(map(lambda n : n ** n, num_list))"
   ]
  },
  {
   "cell_type": "code",
   "execution_count": 92,
   "metadata": {},
   "outputs": [
    {
     "data": {
      "text/plain": [
       "[3, 6, 9, 12]"
      ]
     },
     "execution_count": 92,
     "metadata": {},
     "output_type": "execute_result"
    }
   ],
   "source": [
    "num_list = [1, 2, 3, 4]\n",
    "# 코드 작성 : 결과 [3, 6, 9, 12]\n",
    "list(map(lambda n : n * 3, num_list))"
   ]
  },
  {
   "cell_type": "code",
   "execution_count": 91,
   "metadata": {},
   "outputs": [
    {
     "name": "stdout",
     "output_type": "stream",
     "text": [
      "28.04\n"
     ]
    }
   ],
   "source": [
    "values = [10, 'a', True, {}, [], -4, 23.24, (1,), -1.2]\n",
    "result = 0\n",
    "# 코드 작성\n",
    "for value in values:\n",
    "    if not isinstance(value, bool) and isinstance(value, int) or isinstance(value, float):\n",
    "        result += value\n",
    "print(result) # 29.04"
   ]
  },
  {
   "cell_type": "code",
   "execution_count": 87,
   "metadata": {},
   "outputs": [
    {
     "name": "stdout",
     "output_type": "stream",
     "text": [
      "HELLO\n",
      "GGOREB\n"
     ]
    }
   ],
   "source": [
    "hexa_string1 = '48 45 4C 4C 4F'\n",
    "hexa_string2 = '47 47 4F 52 45 42'\n",
    "def show_hex_to_ch(hexa_string):\n",
    "    # 코드 작성 : 결과 HELLO GGOREB\n",
    "    hexa_list = hexa_string.split(' ')\n",
    "    for hexa in hexa_list:\n",
    "        print(chr(int(hexa, 16)), end='')\n",
    "    print()\n",
    "show_hex_to_ch(hexa_string1)\n",
    "show_hex_to_ch(hexa_string2)"
   ]
  },
  {
   "cell_type": "code",
   "execution_count": 66,
   "metadata": {},
   "outputs": [
    {
     "name": "stdout",
     "output_type": "stream",
     "text": [
      "0xbe 0x42 0xcd\n"
     ]
    }
   ],
   "source": [
    "red = 190\n",
    "green = 66\n",
    "blue = 205\n",
    "# 코드 작성 :결과 0xbe 0x42 0xcd\n",
    "r = hex(red)\n",
    "g = hex(green)\n",
    "b = hex(blue)\n",
    "print(r, g, b)"
   ]
  },
  {
   "cell_type": "code",
   "execution_count": 64,
   "metadata": {},
   "outputs": [
    {
     "data": {
      "text/plain": [
       "[1, 2, 4, 5, 7, 8, 10, 11, 13, 14, 16, 17, 19, 20]"
      ]
     },
     "execution_count": 64,
     "metadata": {},
     "output_type": "execute_result"
    }
   ],
   "source": [
    "num_list = range(1, 21)\n",
    "# 코드 작성\n",
    "# 결과 [1, 2, 4, 5, 7, 8, 10, 11, 13, 14, 16, 17, 19, 20]\n",
    "list(filter(lambda n : n % 3 != 0, num_list))"
   ]
  },
  {
   "cell_type": "code",
   "execution_count": 63,
   "metadata": {},
   "outputs": [
    {
     "data": {
      "text/plain": [
       "[1, 3, 8]"
      ]
     },
     "execution_count": 63,
     "metadata": {},
     "output_type": "execute_result"
    }
   ],
   "source": [
    "num_list = [1, -2, 3, -5, 8, -3]\n",
    "# 코드 작성 : 결과 [1, 3, 8]\n",
    "list(filter(lambda n : n >= 0, num_list))"
   ]
  },
  {
   "cell_type": "code",
   "execution_count": 62,
   "metadata": {},
   "outputs": [
    {
     "name": "stdout",
     "output_type": "stream",
     "text": [
      "{1: 'a', 2: 'b', 3: 'c', 4: 'd', 5: 'e', 6: 'f', 7: 'g'}\n"
     ]
    }
   ],
   "source": [
    "char_list = ['a', 'b', 'c', 'd', 'e', 'f', 'g']\n",
    "char_dict = {}\n",
    "# 코드 작성\n",
    "for i, el in enumerate(char_list):\n",
    "    char_dict[i+1] = el\n",
    "print(char_dict)"
   ]
  },
  {
   "cell_type": "code",
   "execution_count": 55,
   "metadata": {},
   "outputs": [
    {
     "name": "stdout",
     "output_type": "stream",
     "text": [
      "몫 7\n",
      "나머지 11\n"
     ]
    }
   ],
   "source": [
    "a = 123\n",
    "b = 16\n",
    "# 코드 작성\n",
    "quotient, remainder = divmod(a, b)\n",
    "print('몫', quotient)\n",
    "print('나머지', remainder)"
   ]
  },
  {
   "cell_type": "code",
   "execution_count": 52,
   "metadata": {
    "scrolled": true
   },
   "outputs": [
    {
     "data": {
      "text/plain": [
       "['__and__',\n",
       " '__class__',\n",
       " '__contains__',\n",
       " '__delattr__',\n",
       " '__dir__',\n",
       " '__doc__',\n",
       " '__eq__',\n",
       " '__format__',\n",
       " '__ge__',\n",
       " '__getattribute__',\n",
       " '__gt__',\n",
       " '__hash__',\n",
       " '__iand__',\n",
       " '__init__',\n",
       " '__init_subclass__',\n",
       " '__ior__',\n",
       " '__isub__',\n",
       " '__iter__',\n",
       " '__ixor__',\n",
       " '__le__',\n",
       " '__len__',\n",
       " '__lt__',\n",
       " '__ne__',\n",
       " '__new__',\n",
       " '__or__',\n",
       " '__rand__',\n",
       " '__reduce__',\n",
       " '__reduce_ex__',\n",
       " '__repr__',\n",
       " '__ror__',\n",
       " '__rsub__',\n",
       " '__rxor__',\n",
       " '__setattr__',\n",
       " '__sizeof__',\n",
       " '__str__',\n",
       " '__sub__',\n",
       " '__subclasshook__',\n",
       " '__xor__',\n",
       " 'add',\n",
       " 'clear',\n",
       " 'copy',\n",
       " 'difference',\n",
       " 'difference_update',\n",
       " 'discard',\n",
       " 'intersection',\n",
       " 'intersection_update',\n",
       " 'isdisjoint',\n",
       " 'issubset',\n",
       " 'issuperset',\n",
       " 'pop',\n",
       " 'remove',\n",
       " 'symmetric_difference',\n",
       " 'symmetric_difference_update',\n",
       " 'union',\n",
       " 'update']"
      ]
     },
     "execution_count": 52,
     "metadata": {},
     "output_type": "execute_result"
    }
   ],
   "source": [
    "dir(set)"
   ]
  },
  {
   "cell_type": "code",
   "execution_count": 34,
   "metadata": {},
   "outputs": [
    {
     "name": "stdout",
     "output_type": "stream",
     "text": [
      "컴파일 언어가 아닌 것은?\n",
      "1. C 2. C# 3. Python 4. swift => 3\n",
      "컴퓨터 장치가 아닌 것은?\n",
      "1. HDD 2. SDD 3. RAM 4. CPU => 2\n",
      "파이썬의 자료형이 아닌 것은?\n",
      "1. str 2. tuple 3. list 4. Map => \n",
      "재입력\n"
     ]
    }
   ],
   "source": [
    "print('컴파일 언어가 아닌 것은?')\n",
    "answer1 = input('1. C 2. C# 3. Python 4. swift => ')\n",
    "print('컴퓨터 장치가 아닌 것은?')\n",
    "answer2 = input('1. HDD 2. SDD 3. RAM 4. CPU => ')\n",
    "print('파이썬의 자료형이 아닌 것은?')\n",
    "answer3 = input('1. str 2. tuple 3. list 4. Map => ')\n",
    "answer_list = list()\n",
    "answer_list.append(answer1)\n",
    "answer_list.append(answer2)\n",
    "answer_list.append(answer3)\n",
    "# 코드 작성\n",
    "if all(answer_list):\n",
    "    print('제출 완료')\n",
    "else:\n",
    "    print('재입력')"
   ]
  },
  {
   "cell_type": "code",
   "execution_count": 32,
   "metadata": {},
   "outputs": [
    {
     "name": "stdout",
     "output_type": "stream",
     "text": [
      "dx: 4 dy: 2\n"
     ]
    }
   ],
   "source": [
    "def distance(start, end):\n",
    "    # 코드 작성\n",
    "    dx = abs(start[0]-end[0])\n",
    "    dy = abs(start[1]-end[1])\n",
    "    return dx, dy\n",
    "\n",
    "start = (1, 1)\n",
    "end = (5, 3)\n",
    "dx, dy = distance(start, end)\n",
    "print('dx:', dx, 'dy:', dy)"
   ]
  },
  {
   "cell_type": "code",
   "execution_count": 28,
   "metadata": {},
   "outputs": [
    {
     "data": {
      "text/plain": [
       "['ArithmeticError',\n",
       " 'AssertionError',\n",
       " 'AttributeError',\n",
       " 'BaseException',\n",
       " 'BlockingIOError',\n",
       " 'BrokenPipeError',\n",
       " 'BufferError',\n",
       " 'BytesWarning',\n",
       " 'ChildProcessError',\n",
       " 'ConnectionAbortedError',\n",
       " 'ConnectionError',\n",
       " 'ConnectionRefusedError',\n",
       " 'ConnectionResetError',\n",
       " 'DeprecationWarning',\n",
       " 'EOFError',\n",
       " 'Ellipsis',\n",
       " 'EnvironmentError',\n",
       " 'Exception',\n",
       " 'False',\n",
       " 'FileExistsError',\n",
       " 'FileNotFoundError',\n",
       " 'FloatingPointError',\n",
       " 'FutureWarning',\n",
       " 'GeneratorExit',\n",
       " 'IOError',\n",
       " 'ImportError',\n",
       " 'ImportWarning',\n",
       " 'IndentationError',\n",
       " 'IndexError',\n",
       " 'InterruptedError',\n",
       " 'IsADirectoryError',\n",
       " 'KeyError',\n",
       " 'KeyboardInterrupt',\n",
       " 'LookupError',\n",
       " 'MemoryError',\n",
       " 'ModuleNotFoundError',\n",
       " 'NameError',\n",
       " 'None',\n",
       " 'NotADirectoryError',\n",
       " 'NotImplemented',\n",
       " 'NotImplementedError',\n",
       " 'OSError',\n",
       " 'OverflowError',\n",
       " 'PendingDeprecationWarning',\n",
       " 'PermissionError',\n",
       " 'ProcessLookupError',\n",
       " 'RecursionError',\n",
       " 'ReferenceError',\n",
       " 'ResourceWarning',\n",
       " 'RuntimeError',\n",
       " 'RuntimeWarning',\n",
       " 'StopAsyncIteration',\n",
       " 'StopIteration',\n",
       " 'SyntaxError',\n",
       " 'SyntaxWarning',\n",
       " 'SystemError',\n",
       " 'SystemExit',\n",
       " 'TabError',\n",
       " 'TimeoutError',\n",
       " 'True',\n",
       " 'TypeError',\n",
       " 'UnboundLocalError',\n",
       " 'UnicodeDecodeError',\n",
       " 'UnicodeEncodeError',\n",
       " 'UnicodeError',\n",
       " 'UnicodeTranslateError',\n",
       " 'UnicodeWarning',\n",
       " 'UserWarning',\n",
       " 'ValueError',\n",
       " 'Warning',\n",
       " 'WindowsError',\n",
       " 'ZeroDivisionError',\n",
       " '__IPYTHON__',\n",
       " '__build_class__',\n",
       " '__debug__',\n",
       " '__doc__',\n",
       " '__import__',\n",
       " '__loader__',\n",
       " '__name__',\n",
       " '__package__',\n",
       " '__spec__',\n",
       " 'abs',\n",
       " 'all',\n",
       " 'any',\n",
       " 'ascii',\n",
       " 'bin',\n",
       " 'bool',\n",
       " 'breakpoint',\n",
       " 'bytearray',\n",
       " 'bytes',\n",
       " 'callable',\n",
       " 'chr',\n",
       " 'classmethod',\n",
       " 'compile',\n",
       " 'complex',\n",
       " 'copyright',\n",
       " 'credits',\n",
       " 'delattr',\n",
       " 'dict',\n",
       " 'dir',\n",
       " 'display',\n",
       " 'divmod',\n",
       " 'enumerate',\n",
       " 'eval',\n",
       " 'exec',\n",
       " 'filter',\n",
       " 'float',\n",
       " 'format',\n",
       " 'frozenset',\n",
       " 'get_ipython',\n",
       " 'getattr',\n",
       " 'globals',\n",
       " 'hasattr',\n",
       " 'hash',\n",
       " 'help',\n",
       " 'hex',\n",
       " 'id',\n",
       " 'input',\n",
       " 'int',\n",
       " 'isinstance',\n",
       " 'issubclass',\n",
       " 'iter',\n",
       " 'len',\n",
       " 'license',\n",
       " 'list',\n",
       " 'locals',\n",
       " 'map',\n",
       " 'max',\n",
       " 'memoryview',\n",
       " 'min',\n",
       " 'next',\n",
       " 'object',\n",
       " 'oct',\n",
       " 'open',\n",
       " 'ord',\n",
       " 'pow',\n",
       " 'print',\n",
       " 'property',\n",
       " 'range',\n",
       " 'repr',\n",
       " 'reversed',\n",
       " 'round',\n",
       " 'set',\n",
       " 'setattr',\n",
       " 'slice',\n",
       " 'sorted',\n",
       " 'staticmethod',\n",
       " 'str',\n",
       " 'sum',\n",
       " 'super',\n",
       " 'tuple',\n",
       " 'type',\n",
       " 'vars',\n",
       " 'zip']"
      ]
     },
     "execution_count": 28,
     "metadata": {},
     "output_type": "execute_result"
    }
   ],
   "source": [
    "dir(__builtins__)"
   ]
  },
  {
   "cell_type": "code",
   "execution_count": 27,
   "metadata": {},
   "outputs": [
    {
     "name": "stdout",
     "output_type": "stream",
     "text": [
      "106_02_python.txt 파일이 존재하지 않음\n"
     ]
    }
   ],
   "source": [
    "try:\n",
    "    name = '106_02_python.txt'\n",
    "    file = open(name, 'r')\n",
    "except:\n",
    "    print(name, '파일이 존재하지 않음')\n",
    "else:\n",
    "    data = file.read()\n",
    "    print(data)\n",
    "    file.close()\n"
   ]
  },
  {
   "cell_type": "code",
   "execution_count": 7,
   "metadata": {},
   "outputs": [
    {
     "name": "stdout",
     "output_type": "stream",
     "text": [
      "[Errno 2] No such file or directory: 'text2.txt'\n"
     ]
    }
   ],
   "source": [
    "try:\n",
    "    file = open('text2.txt', 'r')\n",
    "    text = file.read()\n",
    "    print(text)\n",
    "except FileNotFoundError as e:\n",
    "    print(e)\n"
   ]
  }
 ],
 "metadata": {
  "kernelspec": {
   "display_name": "Python 3",
   "language": "python",
   "name": "python3"
  },
  "language_info": {
   "codemirror_mode": {
    "name": "ipython",
    "version": 3
   },
   "file_extension": ".py",
   "mimetype": "text/x-python",
   "name": "python",
   "nbconvert_exporter": "python",
   "pygments_lexer": "ipython3",
   "version": "3.7.4"
  }
 },
 "nbformat": 4,
 "nbformat_minor": 2
}
