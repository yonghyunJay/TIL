{
 "cells": [
  {
   "cell_type": "code",
   "execution_count": 4,
   "metadata": {},
   "outputs": [],
   "source": [
    "import requests\n",
    "\n",
    "ret = requests.get('http://ggoreb.com/http')"
   ]
  },
  {
   "cell_type": "code",
   "execution_count": 10,
   "metadata": {},
   "outputs": [
    {
     "name": "stdout",
     "output_type": "stream",
     "text": [
      "<Response [200]>\n",
      "200\n"
     ]
    }
   ],
   "source": [
    "print(ret)\n",
    "print(ret.status_code)"
   ]
  },
  {
   "cell_type": "code",
   "execution_count": 12,
   "metadata": {},
   "outputs": [
    {
     "name": "stdout",
     "output_type": "stream",
     "text": [
      "<html lang='ko'>\n",
      "<head>\n",
      "    <meta charset='utf-8' >\n",
      "</head>\n",
      "<body>\n",
      "    <h3>\n",
      "        <a href='#'>íëë¹</a>\n",
      "    </h3>\n",
      "</body>\n",
      "</html>\n"
     ]
    }
   ],
   "source": [
    "print(ret.text)"
   ]
  },
  {
   "cell_type": "code",
   "execution_count": 15,
   "metadata": {},
   "outputs": [
    {
     "name": "stdout",
     "output_type": "stream",
     "text": [
      "<html lang='ko'>\n",
      "<head>\n",
      "    <meta charset='utf-8' >\n",
      "</head>\n",
      "<body>\n",
      "    <h3>\n",
      "        <a href='#'>허니비</a>\n",
      "    </h3>\n",
      "</body>\n",
      "</html>\n"
     ]
    }
   ],
   "source": [
    "ret.encoding = 'utf-8'\n",
    "print(ret.text)"
   ]
  },
  {
   "cell_type": "code",
   "execution_count": 17,
   "metadata": {},
   "outputs": [
    {
     "data": {
      "text/plain": [
       "str"
      ]
     },
     "execution_count": 17,
     "metadata": {},
     "output_type": "execute_result"
    }
   ],
   "source": [
    "type(ret.text)"
   ]
  },
  {
   "cell_type": "code",
   "execution_count": 19,
   "metadata": {},
   "outputs": [
    {
     "data": {
      "text/plain": [
       "\"<html lang='ko'>\\n<head>\\n    <meta charset='utf-8' >\\n</head>\\n<body>\\n    <h3>\\n        <a href='#'>허니비</a>\\n    </h3>\\n</body>\\n</html>\""
      ]
     },
     "execution_count": 19,
     "metadata": {},
     "output_type": "execute_result"
    }
   ],
   "source": [
    "def get_html(url):\n",
    "    html = ''\n",
    "    res = requests.get(url)\n",
    "    if res.status_code == 200:\n",
    "        res.encoding = 'utf-8'\n",
    "    html = res.text\n",
    "    return html\n",
    "\n",
    "get_html('http://ggoreb.com/http')"
   ]
  },
  {
   "cell_type": "code",
   "execution_count": null,
   "metadata": {},
   "outputs": [],
   "source": []
  }
 ],
 "metadata": {
  "kernelspec": {
   "display_name": "Python 3",
   "language": "python",
   "name": "python3"
  },
  "language_info": {
   "codemirror_mode": {
    "name": "ipython",
    "version": 3
   },
   "file_extension": ".py",
   "mimetype": "text/x-python",
   "name": "python",
   "nbconvert_exporter": "python",
   "pygments_lexer": "ipython3",
   "version": "3.7.4"
  }
 },
 "nbformat": 4,
 "nbformat_minor": 2
}
